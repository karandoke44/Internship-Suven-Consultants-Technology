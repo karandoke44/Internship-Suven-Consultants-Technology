{
 "cells": [
  {
   "cell_type": "markdown",
   "id": "precious-spyware",
   "metadata": {},
   "source": [
    "# Recognizing Handwritten Digits with scikit-learn"
   ]
  },
  {
   "cell_type": "markdown",
   "id": "strategic-relative",
   "metadata": {},
   "source": [
    "### Hypothesis\n",
    "\n",
    "The Digits data set of the scikit-learn library provides numerous datasets that are useful for testing many problems of data analysis and prediction of the results. Some Scientist claims that it predicts the digit accurately 95% of the times. Perform data Analysis to accept or reject this Hypothesis."
   ]
  },
  {
   "cell_type": "markdown",
   "id": "particular-excuse",
   "metadata": {},
   "source": [
    "### Loading Data"
   ]
  },
  {
   "cell_type": "code",
   "execution_count": 1,
   "id": "animated-sleeping",
   "metadata": {},
   "outputs": [],
   "source": [
    "from sklearn import datasets\n",
    "digits = datasets.load_digits()"
   ]
  },
  {
   "cell_type": "markdown",
   "id": "historic-chester",
   "metadata": {},
   "source": [
    "### Full description of the dataset"
   ]
  },
  {
   "cell_type": "code",
   "execution_count": 2,
   "id": "wanted-mayor",
   "metadata": {},
   "outputs": [
    {
     "name": "stdout",
     "output_type": "stream",
     "text": [
      ".. _digits_dataset:\n",
      "\n",
      "Optical recognition of handwritten digits dataset\n",
      "--------------------------------------------------\n",
      "\n",
      "**Data Set Characteristics:**\n",
      "\n",
      "    :Number of Instances: 1797\n",
      "    :Number of Attributes: 64\n",
      "    :Attribute Information: 8x8 image of integer pixels in the range 0..16.\n",
      "    :Missing Attribute Values: None\n",
      "    :Creator: E. Alpaydin (alpaydin '@' boun.edu.tr)\n",
      "    :Date: July; 1998\n",
      "\n",
      "This is a copy of the test set of the UCI ML hand-written digits datasets\n",
      "https://archive.ics.uci.edu/ml/datasets/Optical+Recognition+of+Handwritten+Digits\n",
      "\n",
      "The data set contains images of hand-written digits: 10 classes where\n",
      "each class refers to a digit.\n",
      "\n",
      "Preprocessing programs made available by NIST were used to extract\n",
      "normalized bitmaps of handwritten digits from a preprinted form. From a\n",
      "total of 43 people, 30 contributed to the training set and different 13\n",
      "to the test set. 32x32 bitmaps are divided into nonoverlapping blocks of\n",
      "4x4 and the number of on pixels are counted in each block. This generates\n",
      "an input matrix of 8x8 where each element is an integer in the range\n",
      "0..16. This reduces dimensionality and gives invariance to small\n",
      "distortions.\n",
      "\n",
      "For info on NIST preprocessing routines, see M. D. Garris, J. L. Blue, G.\n",
      "T. Candela, D. L. Dimmick, J. Geist, P. J. Grother, S. A. Janet, and C.\n",
      "L. Wilson, NIST Form-Based Handprint Recognition System, NISTIR 5469,\n",
      "1994.\n",
      "\n",
      ".. topic:: References\n",
      "\n",
      "  - C. Kaynak (1995) Methods of Combining Multiple Classifiers and Their\n",
      "    Applications to Handwritten Digit Recognition, MSc Thesis, Institute of\n",
      "    Graduate Studies in Science and Engineering, Bogazici University.\n",
      "  - E. Alpaydin, C. Kaynak (1998) Cascading Classifiers, Kybernetika.\n",
      "  - Ken Tang and Ponnuthurai N. Suganthan and Xi Yao and A. Kai Qin.\n",
      "    Linear dimensionalityreduction using relevance weighted LDA. School of\n",
      "    Electrical and Electronic Engineering Nanyang Technological University.\n",
      "    2005.\n",
      "  - Claudio Gentile. A New Approximate Maximal Margin Classification\n",
      "    Algorithm. NIPS. 2000.\n",
      "\n"
     ]
    }
   ],
   "source": [
    "print(digits.DESCR)"
   ]
  },
  {
   "cell_type": "markdown",
   "id": "intellectual-tourism",
   "metadata": {},
   "source": [
    "### Ground Truth of Dataset"
   ]
  },
  {
   "cell_type": "code",
   "execution_count": 6,
   "id": "hindu-consultation",
   "metadata": {},
   "outputs": [
    {
     "data": {
      "text/plain": [
       "array([0, 1, 2, ..., 8, 9, 8])"
      ]
     },
     "execution_count": 6,
     "metadata": {},
     "output_type": "execute_result"
    }
   ],
   "source": [
    "digits.target"
   ]
  },
  {
   "cell_type": "markdown",
   "id": "successful-optimization",
   "metadata": {},
   "source": [
    "### Shape of the dataset"
   ]
  },
  {
   "cell_type": "code",
   "execution_count": 7,
   "id": "adjacent-landing",
   "metadata": {},
   "outputs": [
    {
     "data": {
      "text/plain": [
       "(1797, 64)"
      ]
     },
     "execution_count": 7,
     "metadata": {},
     "output_type": "execute_result"
    }
   ],
   "source": [
    "digits.data.shape"
   ]
  },
  {
   "cell_type": "markdown",
   "id": "legitimate-silver",
   "metadata": {},
   "source": [
    "### Images stored in the form of array\n",
    "\n",
    "The images of the handwritten digits are contained in a digits.images array. Each \n",
    "element of this array is an image that is represented by an 8x8 matrix of numerical values \n",
    "that correspond to a grayscale from white, with a value of 0, to black, with the value 15"
   ]
  },
  {
   "cell_type": "code",
   "execution_count": 12,
   "id": "solid-louisville",
   "metadata": {},
   "outputs": [
    {
     "data": {
      "text/plain": [
       "array([[ 0.,  0.,  0.,  1., 11.,  0.,  0.,  0.],\n",
       "       [ 0.,  0.,  0.,  7.,  8.,  0.,  0.,  0.],\n",
       "       [ 0.,  0.,  1., 13.,  6.,  2.,  2.,  0.],\n",
       "       [ 0.,  0.,  7., 15.,  0.,  9.,  8.,  0.],\n",
       "       [ 0.,  5., 16., 10.,  0., 16.,  6.,  0.],\n",
       "       [ 0.,  4., 15., 16., 13., 16.,  1.,  0.],\n",
       "       [ 0.,  0.,  0.,  3., 15., 10.,  0.,  0.],\n",
       "       [ 0.,  0.,  0.,  2., 16.,  4.,  0.,  0.]])"
      ]
     },
     "execution_count": 12,
     "metadata": {},
     "output_type": "execute_result"
    }
   ],
   "source": [
    "digits.images[4]"
   ]
  },
  {
   "cell_type": "markdown",
   "id": "italic-equilibrium",
   "metadata": {},
   "source": [
    "The images of the handwritten digits are contained in a digits.images array"
   ]
  },
  {
   "cell_type": "markdown",
   "id": "beneficial-newcastle",
   "metadata": {},
   "source": [
    "### Visualizing an array"
   ]
  },
  {
   "cell_type": "code",
   "execution_count": 15,
   "id": "native-apparel",
   "metadata": {},
   "outputs": [
    {
     "data": {
      "image/png": "[encoded data removed]",
      "text/plain": [
       "<Figure size 432x288 with 1 Axes>"
      ]
     },
     "metadata": {
      "needs_background": "light"
     },
     "output_type": "display_data"
    }
   ],
   "source": [
    "import matplotlib.pyplot as plt\n",
    "plt.imshow(digits.images[4], cmap=plt.cm.gray_r, interpolation='nearest')\n",
    "plt.title('one of the 1797 handwritten digits')\n",
    "plt.savefig('plot1.png', dpi=100, bbox_inches='tight')"
   ]
  },
  {
   "cell_type": "markdown",
   "id": "creative-trauma",
   "metadata": {},
   "source": [
    "### Visualization of digits"
   ]
  },
  {
   "cell_type": "code",
   "execution_count": 17,
   "id": "internal-restriction",
   "metadata": {},
   "outputs": [
    {
     "data": {
      "image/png": "[encoded data removed]",
      "text/plain": [
       "<Figure size 1080x360 with 10 Axes>"
      ]
     },
     "metadata": {
      "needs_background": "light"
     },
     "output_type": "display_data"
    }
   ],
   "source": [
    "import numpy as np\n",
    "plt.figure(figsize=(15,5))\n",
    "plt.subplots_adjust(hspace=0.8)\n",
    "images_and_labels = list(zip(digits.images, digits.target))\n",
    "\n",
    "for index, (image, label) in enumerate(images_and_labels[:10]):\n",
    "    plt.subplot(2, 5, index + 1)\n",
    "    plt.imshow(image, cmap=plt.cm.gray_r, interpolation='nearest')\n",
    "    plt.title('Training: %i' % label, fontsize =12)\n",
    "plt.savefig('plot2.png', dpi=300, bbox_inches='tight')"
   ]
  },
  {
   "cell_type": "markdown",
   "id": "hollywood-health",
   "metadata": {},
   "source": [
    "### Flatten the input images"
   ]
  },
  {
   "cell_type": "code",
   "execution_count": 19,
   "id": "present-immune",
   "metadata": {},
   "outputs": [
    {
     "name": "stdout",
     "output_type": "stream",
     "text": [
      "1797\n"
     ]
    }
   ],
   "source": [
    "n = len(digits.images)\n",
    "print(n)\n",
    "data = digits.images.reshape((n, -1))"
   ]
  },
  {
   "cell_type": "markdown",
   "id": "smooth-milwaukee",
   "metadata": {},
   "source": [
    "### Test cases:\n",
    "We test the hypothesis by using these cases, each case for a different range of training and validation sets\n",
    "#### case 1: Here we have split the data by assigning 0.01 as test size."
   ]
  },
  {
   "cell_type": "markdown",
   "id": "different-flavor",
   "metadata": {},
   "source": [
    "### Splitting Data"
   ]
  },
  {
   "cell_type": "code",
   "execution_count": 20,
   "id": "naughty-master",
   "metadata": {},
   "outputs": [],
   "source": [
    "from sklearn.model_selection import train_test_split\n",
    "x_train, x_test, y_train, y_test = train_test_split(data, digits.target, test_size=0.01, random_state=0)"
   ]
  },
  {
   "cell_type": "markdown",
   "id": "pressed-stanford",
   "metadata": {},
   "source": [
    "## Training and Prediction using Suport Vector Classifier "
   ]
  },
  {
   "cell_type": "code",
   "execution_count": 21,
   "id": "indian-listening",
   "metadata": {},
   "outputs": [],
   "source": [
    "from sklearn import svm\n",
    "svc = svm.SVC(gamma=0.001, C=100.)"
   ]
  },
  {
   "cell_type": "code",
   "execution_count": 22,
   "id": "beneficial-mentor",
   "metadata": {},
   "outputs": [
    {
     "data": {
      "text/plain": [
       "SVC(C=100.0, gamma=0.001)"
      ]
     },
     "execution_count": 22,
     "metadata": {},
     "output_type": "execute_result"
    }
   ],
   "source": [
    "svc.fit(x_train, y_train)"
   ]
  },
  {
   "cell_type": "code",
   "execution_count": 23,
   "id": "insured-steam",
   "metadata": {},
   "outputs": [
    {
     "data": {
      "text/plain": [
       "array([2, 8, 2, 6, 6, 7, 1, 9, 8, 5, 2, 8, 6, 6, 6, 6, 1, 0])"
      ]
     },
     "execution_count": 23,
     "metadata": {},
     "output_type": "execute_result"
    }
   ],
   "source": [
    "y_pred =svc.predict(x_test)\n",
    "y_pred"
   ]
  },
  {
   "cell_type": "markdown",
   "id": "fluid-investigator",
   "metadata": {},
   "source": [
    "#### Test Samples and their Predicted Digit Value"
   ]
  },
  {
   "cell_type": "code",
   "execution_count": 24,
   "id": "advised-trainer",
   "metadata": {},
   "outputs": [
    {
     "data": {
      "image/png": "[encoded data removed]",
      "text/plain": [
       "<Figure size 1296x360 with 18 Axes>"
      ]
     },
     "metadata": {
      "needs_background": "light"
     },
     "output_type": "display_data"
    }
   ],
   "source": [
    "images_and_predictions = list(zip(x_test,y_pred))\n",
    "\n",
    "plt.figure(figsize=(18,5))\n",
    "for index, (image, prediction) in enumerate(images_and_predictions[:19]):\n",
    "    plt.subplot(2, 9, index + 1)\n",
    "    image = image.reshape(8, 8)\n",
    "    plt.imshow(image, cmap=plt.cm.gray_r, interpolation='nearest')\n",
    "    plt.title('Prediction: %i' % prediction)\n",
    "\n",
    "plt.savefig('plot3.png', dpi=300, bbox_inches='tight')"
   ]
  },
  {
   "cell_type": "markdown",
   "id": "dominant-internet",
   "metadata": {},
   "source": [
    "### Model Evaluation "
   ]
  },
  {
   "cell_type": "code",
   "execution_count": 25,
   "id": "handed-legislature",
   "metadata": {},
   "outputs": [
    {
     "name": "stdout",
     "output_type": "stream",
     "text": [
      "Accuracy Score: 1.0\n"
     ]
    }
   ],
   "source": [
    "score = svc.score(x_test, y_test)\n",
    "print('Accuracy Score: {0}'.format(score))"
   ]
  },
  {
   "cell_type": "code",
   "execution_count": 39,
   "id": "conscious-upgrade",
   "metadata": {},
   "outputs": [
    {
     "data": {
      "image/png": "[encoded data removed]",
      "text/plain": [
       "<Figure size 720x720 with 2 Axes>"
      ]
     },
     "metadata": {},
     "output_type": "display_data"
    }
   ],
   "source": [
    "from sklearn.metrics import confusion_matrix\n",
    "import pandas as pd\n",
    "import seaborn as sn\n",
    "\n",
    "data = confusion_matrix(y_test, y_pred)\n",
    "df_cm = pd.DataFrame(data, columns=np.unique(y_test), index = np.unique(y_test))\n",
    "df_cm.index.name = 'Actual'\n",
    "df_cm.columns.name = 'Predicted'\n",
    "\n",
    "plt.figure(figsize = (10,10))\n",
    "sn.set(font_scale=1.4)              #for label size\n",
    "plt.title('Confusion Matrix')\n",
    "sn.heatmap(df_cm, annot=True,annot_kws={\"size\": 12},cmap=\"PiYG\")# font size\n",
    "plt.savefig('plot4.png', dpi=100, bbox_inches='tight')"
   ]
  },
  {
   "cell_type": "code",
   "execution_count": 40,
   "id": "awful-justice",
   "metadata": {},
   "outputs": [
    {
     "name": "stdout",
     "output_type": "stream",
     "text": [
      "Classification Report:\n",
      "\n",
      "               precision    recall  f1-score   support\n",
      "\n",
      "           0       1.00      1.00      1.00         1\n",
      "           1       1.00      1.00      1.00         2\n",
      "           2       1.00      1.00      1.00         3\n",
      "           5       1.00      1.00      1.00         1\n",
      "           6       1.00      1.00      1.00         6\n",
      "           7       1.00      1.00      1.00         1\n",
      "           8       1.00      1.00      1.00         3\n",
      "           9       1.00      1.00      1.00         1\n",
      "\n",
      "    accuracy                           1.00        18\n",
      "   macro avg       1.00      1.00      1.00        18\n",
      "weighted avg       1.00      1.00      1.00        18\n",
      "\n"
     ]
    }
   ],
   "source": [
    "from sklearn.metrics import classification_report\n",
    "cr=classification_report(y_test, y_pred)\n",
    "print(\"Classification Report:\\n\\n\", cr)"
   ]
  },
  {
   "cell_type": "markdown",
   "id": "smaller-carrier",
   "metadata": {},
   "source": [
    "#### Case 2: Splitting data by assigning test size as *0.7*"
   ]
  },
  {
   "cell_type": "code",
   "execution_count": 41,
   "id": "acquired-tunnel",
   "metadata": {},
   "outputs": [],
   "source": [
    "from sklearn.model_selection import train_test_split\n",
    "x_train, x_test, y_train, y_test = train_test_split(digits.data, digits.target, test_size=0.7, random_state=0)\n",
    "\n",
    "from sklearn import svm\n",
    "svc=svm.SVC(gamma=0.001, C=100.)\n",
    "\n",
    "svc.fit(x_train, y_train)\n",
    "y_pred= svc.predict(x_test)"
   ]
  },
  {
   "cell_type": "code",
   "execution_count": 42,
   "id": "informative-peeing",
   "metadata": {},
   "outputs": [
    {
     "name": "stdout",
     "output_type": "stream",
     "text": [
      "Accuracy Score for test size 0.7 is:0.9841017488076311\n"
     ]
    }
   ],
   "source": [
    "score = svc.score(x_test, y_test)\n",
    "print(\"Accuracy Score for test size 0.7 is:{0}\".format(score))"
   ]
  },
  {
   "cell_type": "markdown",
   "id": "basic-consultation",
   "metadata": {},
   "source": [
    "#### Case 03 : Splitting data by assigning test size as *0.9*"
   ]
  },
  {
   "cell_type": "code",
   "execution_count": 43,
   "id": "changing-string",
   "metadata": {},
   "outputs": [],
   "source": [
    "from sklearn.model_selection import train_test_split\n",
    "x_train, x_test, y_train, y_test = train_test_split(digits.data, digits.target, test_size=0.9, random_state=0)\n",
    "\n",
    "from sklearn import svm\n",
    "svc = svm.SVC(gamma=0.001, C=100.)\n",
    "\n",
    "svc.fit(x_train, y_train)\n",
    "y_pred=svc.predict(x_test)"
   ]
  },
  {
   "cell_type": "code",
   "execution_count": 44,
   "id": "eleven-suffering",
   "metadata": {},
   "outputs": [
    {
     "name": "stdout",
     "output_type": "stream",
     "text": [
      "Accuracy score of test size 0.9 is: 0.9684796044499382\n"
     ]
    }
   ],
   "source": [
    "score=svc.score(x_test, y_test)\n",
    "print(\"Accuracy score of test size 0.9 is: {0}\".format(score))"
   ]
  },
  {
   "cell_type": "markdown",
   "id": "exciting-hacker",
   "metadata": {},
   "source": [
    "## Conclusion:\n",
    "\n",
    "The Hypothesis is true. This Dataset Predicts the digits <b>95%</b> accurately for all times."
   ]
  }
 ],
 "metadata": {
  "kernelspec": {
   "display_name": "Python 3",
   "language": "python",
   "name": "python3"
  },
  "language_info": {
   "codemirror_mode": {
    "name": "ipython",
    "version": 3
   },
   "file_extension": ".py",
   "mimetype": "text/x-python",
   "name": "python",
   "nbconvert_exporter": "python",
   "pygments_lexer": "ipython3",
   "version": "3.9.2"
  }
 },
 "nbformat": 4,
 "nbformat_minor": 5
}
